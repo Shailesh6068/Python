{
 "cells": [
  {
   "cell_type": "code",
   "execution_count": null,
   "id": "bf90f3fe",
   "metadata": {},
   "outputs": [],
   "source": []
  },
  {
   "cell_type": "code",
   "execution_count": 2,
   "id": "27fbae27",
   "metadata": {},
   "outputs": [
    {
     "name": "stdout",
     "output_type": "stream",
     "text": [
      "sdfg\n"
     ]
    }
   ],
   "source": [
    "print(\"sdfg\")\n"
   ]
  },
  {
   "cell_type": "code",
   "execution_count": 3,
   "id": "fe8ba725",
   "metadata": {},
   "outputs": [
    {
     "data": {
      "text/html": [
       "<div>\n",
       "<style scoped>\n",
       "    .dataframe tbody tr th:only-of-type {\n",
       "        vertical-align: middle;\n",
       "    }\n",
       "\n",
       "    .dataframe tbody tr th {\n",
       "        vertical-align: top;\n",
       "    }\n",
       "\n",
       "    .dataframe thead th {\n",
       "        text-align: right;\n",
       "    }\n",
       "</style>\n",
       "<table border=\"1\" class=\"dataframe\">\n",
       "  <thead>\n",
       "    <tr style=\"text-align: right;\">\n",
       "      <th></th>\n",
       "      <th>Subject Registration Report</th>\n",
       "      <th>Unnamed: 1</th>\n",
       "      <th>Unnamed: 2</th>\n",
       "      <th>Unnamed: 3</th>\n",
       "      <th>Unnamed: 4</th>\n",
       "      <th>Unnamed: 5</th>\n",
       "      <th>Unnamed: 6</th>\n",
       "      <th>Unnamed: 7</th>\n",
       "      <th>Unnamed: 8</th>\n",
       "      <th>Unnamed: 9</th>\n",
       "      <th>Unnamed: 10</th>\n",
       "    </tr>\n",
       "  </thead>\n",
       "  <tbody>\n",
       "    <tr>\n",
       "      <th>0</th>\n",
       "      <td>Sr No</td>\n",
       "      <td>PRN No</td>\n",
       "      <td>Student Name</td>\n",
       "      <td>Year</td>\n",
       "      <td>Academic Year</td>\n",
       "      <td>Semester</td>\n",
       "      <td>Pattern</td>\n",
       "      <td>Division</td>\n",
       "      <td>Course Code</td>\n",
       "      <td>Course Name</td>\n",
       "      <td>Gender</td>\n",
       "    </tr>\n",
       "    <tr>\n",
       "      <th>1</th>\n",
       "      <td>1</td>\n",
       "      <td>124B1B034</td>\n",
       "      <td>TALREJA TANMAY DEVANAND</td>\n",
       "      <td>SY</td>\n",
       "      <td>2025-26</td>\n",
       "      <td>1</td>\n",
       "      <td>2023</td>\n",
       "      <td>A</td>\n",
       "      <td>BSH23OE06</td>\n",
       "      <td>Open Elective : Neural Network and Fuzzy Logic...</td>\n",
       "      <td>Male</td>\n",
       "    </tr>\n",
       "    <tr>\n",
       "      <th>2</th>\n",
       "      <td>2</td>\n",
       "      <td>124B1B067</td>\n",
       "      <td>KURSANGE YASH SANTOSH</td>\n",
       "      <td>SY</td>\n",
       "      <td>2025-26</td>\n",
       "      <td>1</td>\n",
       "      <td>2023</td>\n",
       "      <td>A</td>\n",
       "      <td>BSH23OE06</td>\n",
       "      <td>Open Elective : Neural Network and Fuzzy Logic...</td>\n",
       "      <td>Male</td>\n",
       "    </tr>\n",
       "    <tr>\n",
       "      <th>3</th>\n",
       "      <td>3</td>\n",
       "      <td>124B1B174</td>\n",
       "      <td>ZAREKAR SIDDHI KISHOR</td>\n",
       "      <td>SY</td>\n",
       "      <td>2025-26</td>\n",
       "      <td>1</td>\n",
       "      <td>2023</td>\n",
       "      <td>C</td>\n",
       "      <td>BSH23OE06</td>\n",
       "      <td>Open Elective : Neural Network and Fuzzy Logic...</td>\n",
       "      <td>Female</td>\n",
       "    </tr>\n",
       "    <tr>\n",
       "      <th>4</th>\n",
       "      <td>4</td>\n",
       "      <td>124B1B080</td>\n",
       "      <td>MEHUL SRINIVAS PYATI</td>\n",
       "      <td>SY</td>\n",
       "      <td>2025-26</td>\n",
       "      <td>1</td>\n",
       "      <td>2023</td>\n",
       "      <td>B</td>\n",
       "      <td>BSH23OE06</td>\n",
       "      <td>Open Elective : Neural Network and Fuzzy Logic...</td>\n",
       "      <td>Male</td>\n",
       "    </tr>\n",
       "  </tbody>\n",
       "</table>\n",
       "</div>"
      ],
      "text/plain": [
       "  Subject Registration Report Unnamed: 1               Unnamed: 2 Unnamed: 3  \\\n",
       "0                       Sr No     PRN No             Student Name       Year   \n",
       "1                           1  124B1B034  TALREJA TANMAY DEVANAND         SY   \n",
       "2                           2  124B1B067    KURSANGE YASH SANTOSH         SY   \n",
       "3                           3  124B1B174    ZAREKAR SIDDHI KISHOR         SY   \n",
       "4                           4  124B1B080     MEHUL SRINIVAS PYATI         SY   \n",
       "\n",
       "      Unnamed: 4 Unnamed: 5 Unnamed: 6 Unnamed: 7   Unnamed: 8  \\\n",
       "0  Academic Year   Semester    Pattern   Division  Course Code   \n",
       "1        2025-26          1       2023          A    BSH23OE06   \n",
       "2        2025-26          1       2023          A    BSH23OE06   \n",
       "3        2025-26          1       2023          C    BSH23OE06   \n",
       "4        2025-26          1       2023          B    BSH23OE06   \n",
       "\n",
       "                                          Unnamed: 9 Unnamed: 10  \n",
       "0                                        Course Name      Gender  \n",
       "1  Open Elective : Neural Network and Fuzzy Logic...        Male  \n",
       "2  Open Elective : Neural Network and Fuzzy Logic...        Male  \n",
       "3  Open Elective : Neural Network and Fuzzy Logic...      Female  \n",
       "4  Open Elective : Neural Network and Fuzzy Logic...        Male  "
      ]
     },
     "execution_count": 3,
     "metadata": {},
     "output_type": "execute_result"
    }
   ],
   "source": [
    "import pandas as pd\n",
    "\n",
    "df = pd.read_excel('/home/pccoe/SY Data.xlsx',engine='openpyxl')\n",
    "\n",
    "df.head()\n"
   ]
  },
  {
   "cell_type": "code",
   "execution_count": 4,
   "id": "389c90d6",
   "metadata": {},
   "outputs": [
    {
     "name": "stdout",
     "output_type": "stream",
     "text": [
      "Missing values:\n",
      "Subject Registration Report      0\n",
      "Unnamed: 1                       0\n",
      "Unnamed: 2                       0\n",
      "Unnamed: 3                       0\n",
      "Unnamed: 4                       0\n",
      "Unnamed: 5                       0\n",
      "Unnamed: 6                     125\n",
      "Unnamed: 7                       0\n",
      "Unnamed: 8                       0\n",
      "Unnamed: 9                       0\n",
      "Unnamed: 10                      0\n",
      "dtype: int64\n"
     ]
    },
    {
     "ename": "NameError",
     "evalue": "name 'SimpleImputer' is not defined",
     "output_type": "error",
     "traceback": [
      "\u001b[0;31m---------------------------------------------------------------------------\u001b[0m",
      "\u001b[0;31mNameError\u001b[0m                                 Traceback (most recent call last)",
      "Cell \u001b[0;32mIn[4], line 4\u001b[0m\n\u001b[1;32m      1\u001b[0m \u001b[38;5;28mprint\u001b[39m(\u001b[38;5;124m\"\u001b[39m\u001b[38;5;124mMissing values:\u001b[39m\u001b[38;5;124m\"\u001b[39m)\n\u001b[1;32m      2\u001b[0m \u001b[38;5;28mprint\u001b[39m(df\u001b[38;5;241m.\u001b[39misnull()\u001b[38;5;241m.\u001b[39msum())\n\u001b[0;32m----> 4\u001b[0m imputer \u001b[38;5;241m=\u001b[39m \u001b[43mSimpleImputer\u001b[49m(strategy\u001b[38;5;241m=\u001b[39m\u001b[38;5;124m'\u001b[39m\u001b[38;5;124mmean\u001b[39m\u001b[38;5;124m'\u001b[39m)\n\u001b[1;32m      5\u001b[0m df_imputed \u001b[38;5;241m=\u001b[39m pd\u001b[38;5;241m.\u001b[39mDataFrame(imputer\u001b[38;5;241m.\u001b[39mfit_transform(df), columns\u001b[38;5;241m=\u001b[39mdf\u001b[38;5;241m.\u001b[39mcolumns)\n\u001b[1;32m      7\u001b[0m \u001b[38;5;28mprint\u001b[39m(\u001b[38;5;124mf\u001b[39m\u001b[38;5;124m\"\u001b[39m\u001b[38;5;124mNumber of duplicate rows: \u001b[39m\u001b[38;5;132;01m{\u001b[39;00mdf\u001b[38;5;241m.\u001b[39mduplicated()\u001b[38;5;241m.\u001b[39msum()\u001b[38;5;132;01m}\u001b[39;00m\u001b[38;5;124m\"\u001b[39m)\n",
      "\u001b[0;31mNameError\u001b[0m: name 'SimpleImputer' is not defined"
     ]
    }
   ],
   "source": [
    "print(\"Missing values:\")\n",
    "print(df.isnull().sum())\n",
    "\n",
    "imputer = SimpleImputer(strategy='mean')\n",
    "df_imputed = pd.DataFrame(imputer.fit_transform(df), columns=df.columns)\n",
    "\n",
    "print(f\"Number of duplicate rows: {df.duplicated().sum()}\")\n",
    "df_clean = df.drop_duplicates()\n",
    "\n",
    "print(df_clean.dtypes)\n"
   ]
  }
 ],
 "metadata": {
  "kernelspec": {
   "display_name": "Python 3",
   "language": "python",
   "name": "python3"
  },
  "language_info": {
   "codemirror_mode": {
    "name": "ipython",
    "version": 3
   },
   "file_extension": ".py",
   "mimetype": "text/x-python",
   "name": "python",
   "nbconvert_exporter": "python",
   "pygments_lexer": "ipython3",
   "version": "3.8.10"
  }
 },
 "nbformat": 4,
 "nbformat_minor": 5
}
