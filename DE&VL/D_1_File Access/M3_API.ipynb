{
 "cells": [
  {
   "cell_type": "code",
   "execution_count": 1,
   "id": "2f2ff2c0",
   "metadata": {},
   "outputs": [],
   "source": [
    "import pandas as pd\n",
    "import requests"
   ]
  },
  {
   "cell_type": "code",
   "execution_count": null,
   "id": "e066bc13",
   "metadata": {},
   "outputs": [
    {
     "name": "stdout",
     "output_type": "stream",
     "text": [
      "Crew-5 2022-10-05T16:00:00.000Z\n"
     ]
    }
   ],
   "source": [
    "import pandas as pd\n",
    "import requests\n",
    "\n",
    "response = requests.get(\"https://api.spacexdata.com/v4/launches/latest\")"
   ]
  },
  {
   "cell_type": "code",
   "execution_count": null,
   "id": "b22de50e",
   "metadata": {},
   "outputs": [],
   "source": [
    "# import requests\n",
    "# import pandas as pd\n",
    "\n",
    "# response = requests.get(\"https://api.themoviedb.org/3/movie/top_rated?api_key=your_api_key\")\n",
    "# df = pd.DataFrame(response.json()[\"results\"])\n",
    "\n",
    "# print(df[['title', 'vote_average', 'release_date']].head())\n"
   ]
  }
 ],
 "metadata": {
  "kernelspec": {
   "display_name": "Python 3",
   "language": "python",
   "name": "python3"
  },
  "language_info": {
   "codemirror_mode": {
    "name": "ipython",
    "version": 3
   },
   "file_extension": ".py",
   "mimetype": "text/x-python",
   "name": "python",
   "nbconvert_exporter": "python",
   "pygments_lexer": "ipython3",
   "version": "3.12.1"
  }
 },
 "nbformat": 4,
 "nbformat_minor": 5
}
