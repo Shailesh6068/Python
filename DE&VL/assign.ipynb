{
 "cells": [
  {
   "cell_type": "code",
   "execution_count": 7,
   "id": "0180b45d",
   "metadata": {},
   "outputs": [],
   "source": [
    "import pandas as pd\n",
    "import seaborn as sns\n",
    "import matplotlib.pyplot as plt\n"
   ]
  },
  {
   "cell_type": "code",
   "execution_count": 9,
   "id": "a34e2056",
   "metadata": {},
   "outputs": [
    {
     "data": {
      "text/html": [
       "<div>\n",
       "<style scoped>\n",
       "    .dataframe tbody tr th:only-of-type {\n",
       "        vertical-align: middle;\n",
       "    }\n",
       "\n",
       "    .dataframe tbody tr th {\n",
       "        vertical-align: top;\n",
       "    }\n",
       "\n",
       "    .dataframe thead th {\n",
       "        text-align: right;\n",
       "    }\n",
       "</style>\n",
       "<table border=\"1\" class=\"dataframe\">\n",
       "  <thead>\n",
       "    <tr style=\"text-align: right;\">\n",
       "      <th></th>\n",
       "      <th>District Name</th>\n",
       "      <th>District Code</th>\n",
       "      <th>Administrative Division</th>\n",
       "      <th>Headquarters</th>\n",
       "      <th>Number of Talukas</th>\n",
       "      <th>Area (in sq. km)</th>\n",
       "      <th>Population (Census 2011)</th>\n",
       "      <th>Population Density (per sq. km)</th>\n",
       "      <th>Sex Ratio</th>\n",
       "      <th>Literacy Rate (%)</th>\n",
       "      <th>Urban Population (%)</th>\n",
       "      <th>Formation Date</th>\n",
       "      <th>Geographical Coordinates (Latitude and Longitude)</th>\n",
       "      <th>Major River(s)</th>\n",
       "      <th>Major Crop(s)</th>\n",
       "      <th>Key Industries/Economy</th>\n",
       "      <th>Tourist Attractions</th>\n",
       "    </tr>\n",
       "  </thead>\n",
       "  <tbody>\n",
       "    <tr>\n",
       "      <th>0</th>\n",
       "      <td>Pune</td>\n",
       "      <td>PU</td>\n",
       "      <td>Pune Division</td>\n",
       "      <td>Pune</td>\n",
       "      <td>14</td>\n",
       "      <td>15643</td>\n",
       "      <td>9429408</td>\n",
       "      <td>603</td>\n",
       "      <td>915</td>\n",
       "      <td>86.15</td>\n",
       "      <td>60.5</td>\n",
       "      <td>1 May 1960</td>\n",
       "      <td>18.52° N, 73.85° E</td>\n",
       "      <td>Bhima, Mula, Mutha, Indrayani</td>\n",
       "      <td>Sugarcane, Jowar, Bajra, Grapes, Onions</td>\n",
       "      <td>IT &amp; ITeS, Automotive, Manufacturing, Educatio...</td>\n",
       "      <td>Shaniwar Wada, Aga Khan Palace, Sinhagad Fort,...</td>\n",
       "    </tr>\n",
       "    <tr>\n",
       "      <th>1</th>\n",
       "      <td>Satara</td>\n",
       "      <td>ST</td>\n",
       "      <td>Pune Division</td>\n",
       "      <td>Satara</td>\n",
       "      <td>11</td>\n",
       "      <td>10480</td>\n",
       "      <td>3003741</td>\n",
       "      <td>287</td>\n",
       "      <td>988</td>\n",
       "      <td>82.87</td>\n",
       "      <td>21.9</td>\n",
       "      <td>1 May 1960</td>\n",
       "      <td>17.68° N, 74.01° E</td>\n",
       "      <td>Krishna, Koyna, Venna</td>\n",
       "      <td>Sugarcane, Jowar, Soybean, Turmeric</td>\n",
       "      <td>Agriculture, Wind Power, Sugar Factories, Tourism</td>\n",
       "      <td>Kaas Plateau, Mahabaleshwar, Panchgani, Thoseg...</td>\n",
       "    </tr>\n",
       "    <tr>\n",
       "      <th>2</th>\n",
       "      <td>Sangli</td>\n",
       "      <td>SN</td>\n",
       "      <td>Pune Division</td>\n",
       "      <td>Sangli</td>\n",
       "      <td>10</td>\n",
       "      <td>8572</td>\n",
       "      <td>2822143</td>\n",
       "      <td>329</td>\n",
       "      <td>966</td>\n",
       "      <td>81.48</td>\n",
       "      <td>25.5</td>\n",
       "      <td>1 May 1960</td>\n",
       "      <td>16.85° N, 74.58° E</td>\n",
       "      <td>Krishna, Warana</td>\n",
       "      <td>Sugarcane, Grapes, Turmeric, Jowar</td>\n",
       "      <td>Sugar Production, Turmeric Processing, Textile...</td>\n",
       "      <td>Sagareshwar Wildlife Sanctuary, Chandoli Natio...</td>\n",
       "    </tr>\n",
       "    <tr>\n",
       "      <th>3</th>\n",
       "      <td>Solapur</td>\n",
       "      <td>SO</td>\n",
       "      <td>Pune Division</td>\n",
       "      <td>Solapur</td>\n",
       "      <td>11</td>\n",
       "      <td>14895</td>\n",
       "      <td>4317756</td>\n",
       "      <td>290</td>\n",
       "      <td>938</td>\n",
       "      <td>77.02</td>\n",
       "      <td>32.4</td>\n",
       "      <td>1 May 1960</td>\n",
       "      <td>17.68° N, 75.90° E</td>\n",
       "      <td>Bhima, Sina, Man</td>\n",
       "      <td>Jowar, Sugarcane, Pomegranate, Pulses</td>\n",
       "      <td>Textiles (Chaddars), Sugar Factories, Beedi In...</td>\n",
       "      <td>Siddheshwar Temple, Akkalkot Swami Samarth Mah...</td>\n",
       "    </tr>\n",
       "    <tr>\n",
       "      <th>4</th>\n",
       "      <td>Kolhapur</td>\n",
       "      <td>KO</td>\n",
       "      <td>Pune Division</td>\n",
       "      <td>Kolhapur</td>\n",
       "      <td>12</td>\n",
       "      <td>7685</td>\n",
       "      <td>3876001</td>\n",
       "      <td>504</td>\n",
       "      <td>957</td>\n",
       "      <td>81.51</td>\n",
       "      <td>31.7</td>\n",
       "      <td>1 May 1960</td>\n",
       "      <td>16.70° N, 74.24° E</td>\n",
       "      <td>Panchganga, Krishna, Dudhganga</td>\n",
       "      <td>Sugarcane, Rice, Soybean, Jaggery</td>\n",
       "      <td>Sugar Mills, Foundries, Textiles, Kolhapuri Ch...</td>\n",
       "      <td>Mahalakshmi Temple, Panhala Fort, Jyotiba Temp...</td>\n",
       "    </tr>\n",
       "  </tbody>\n",
       "</table>\n",
       "</div>"
      ],
      "text/plain": [
       "  District Name District Code Administrative Division Headquarters  \\\n",
       "0          Pune            PU           Pune Division         Pune   \n",
       "1        Satara            ST           Pune Division       Satara   \n",
       "2        Sangli            SN           Pune Division       Sangli   \n",
       "3       Solapur            SO           Pune Division      Solapur   \n",
       "4      Kolhapur            KO           Pune Division     Kolhapur   \n",
       "\n",
       "   Number of Talukas  Area (in sq. km)  Population (Census 2011)  \\\n",
       "0                 14             15643                   9429408   \n",
       "1                 11             10480                   3003741   \n",
       "2                 10              8572                   2822143   \n",
       "3                 11             14895                   4317756   \n",
       "4                 12              7685                   3876001   \n",
       "\n",
       "   Population Density (per sq. km)  Sex Ratio  Literacy Rate (%)  \\\n",
       "0                              603        915              86.15   \n",
       "1                              287        988              82.87   \n",
       "2                              329        966              81.48   \n",
       "3                              290        938              77.02   \n",
       "4                              504        957              81.51   \n",
       "\n",
       "   Urban Population (%) Formation Date  \\\n",
       "0                  60.5     1 May 1960   \n",
       "1                  21.9     1 May 1960   \n",
       "2                  25.5     1 May 1960   \n",
       "3                  32.4     1 May 1960   \n",
       "4                  31.7     1 May 1960   \n",
       "\n",
       "  Geographical Coordinates (Latitude and Longitude)  \\\n",
       "0                                18.52° N, 73.85° E   \n",
       "1                                17.68° N, 74.01° E   \n",
       "2                                16.85° N, 74.58° E   \n",
       "3                                17.68° N, 75.90° E   \n",
       "4                                16.70° N, 74.24° E   \n",
       "\n",
       "                   Major River(s)                            Major Crop(s)  \\\n",
       "0   Bhima, Mula, Mutha, Indrayani  Sugarcane, Jowar, Bajra, Grapes, Onions   \n",
       "1           Krishna, Koyna, Venna      Sugarcane, Jowar, Soybean, Turmeric   \n",
       "2                 Krishna, Warana       Sugarcane, Grapes, Turmeric, Jowar   \n",
       "3                Bhima, Sina, Man    Jowar, Sugarcane, Pomegranate, Pulses   \n",
       "4  Panchganga, Krishna, Dudhganga        Sugarcane, Rice, Soybean, Jaggery   \n",
       "\n",
       "                              Key Industries/Economy  \\\n",
       "0  IT & ITeS, Automotive, Manufacturing, Educatio...   \n",
       "1  Agriculture, Wind Power, Sugar Factories, Tourism   \n",
       "2  Sugar Production, Turmeric Processing, Textile...   \n",
       "3  Textiles (Chaddars), Sugar Factories, Beedi In...   \n",
       "4  Sugar Mills, Foundries, Textiles, Kolhapuri Ch...   \n",
       "\n",
       "                                 Tourist Attractions  \n",
       "0  Shaniwar Wada, Aga Khan Palace, Sinhagad Fort,...  \n",
       "1  Kaas Plateau, Mahabaleshwar, Panchgani, Thoseg...  \n",
       "2  Sagareshwar Wildlife Sanctuary, Chandoli Natio...  \n",
       "3  Siddheshwar Temple, Akkalkot Swami Samarth Mah...  \n",
       "4  Mahalakshmi Temple, Panhala Fort, Jyotiba Temp...  "
      ]
     },
     "execution_count": 9,
     "metadata": {},
     "output_type": "execute_result"
    }
   ],
   "source": [
    "df = pd.read_csv(\"/home/pccoe/Downloads/maharashtra-districts.csv\")\n",
    "df.head()"
   ]
  },
  {
   "cell_type": "code",
   "execution_count": null,
   "id": "d17f39d9",
   "metadata": {},
   "outputs": [],
   "source": [
    "df.dropna(inplace=True)"
   ]
  },
  {
   "cell_type": "code",
   "execution_count": 12,
   "id": "6cb97b7a",
   "metadata": {},
   "outputs": [
    {
     "data": {
      "text/plain": [
       "District Name                                        0\n",
       "District Code                                        0\n",
       "Administrative Division                              0\n",
       "Headquarters                                         0\n",
       "Number of Talukas                                    0\n",
       "Area (in sq. km)                                     0\n",
       "Population (Census 2011)                             0\n",
       "Population Density (per sq. km)                      0\n",
       "Sex Ratio                                            0\n",
       "Literacy Rate (%)                                    0\n",
       "Urban Population (%)                                 0\n",
       "Formation Date                                       0\n",
       "Geographical Coordinates (Latitude and Longitude)    0\n",
       "Major River(s)                                       0\n",
       "Major Crop(s)                                        0\n",
       "Key Industries/Economy                               0\n",
       "Tourist Attractions                                  0\n",
       "dtype: int64"
      ]
     },
     "execution_count": 12,
     "metadata": {},
     "output_type": "execute_result"
    }
   ],
   "source": [
    "df.isnull().sum()"
   ]
  },
  {
   "cell_type": "code",
   "execution_count": 13,
   "id": "daacc39a",
   "metadata": {},
   "outputs": [
    {
     "name": "stdout",
     "output_type": "stream",
     "text": [
      "<class 'pandas.core.frame.DataFrame'>\n",
      "Index: 34 entries, 0 to 35\n",
      "Data columns (total 17 columns):\n",
      " #   Column                                             Non-Null Count  Dtype  \n",
      "---  ------                                             --------------  -----  \n",
      " 0   District Name                                      34 non-null     object \n",
      " 1   District Code                                      34 non-null     object \n",
      " 2   Administrative Division                            34 non-null     object \n",
      " 3   Headquarters                                       34 non-null     object \n",
      " 4   Number of Talukas                                  34 non-null     int64  \n",
      " 5   Area (in sq. km)                                   34 non-null     int64  \n",
      " 6   Population (Census 2011)                           34 non-null     int64  \n",
      " 7   Population Density (per sq. km)                    34 non-null     int64  \n",
      " 8   Sex Ratio                                          34 non-null     int64  \n",
      " 9   Literacy Rate (%)                                  34 non-null     float64\n",
      " 10  Urban Population (%)                               34 non-null     float64\n",
      " 11  Formation Date                                     34 non-null     object \n",
      " 12  Geographical Coordinates (Latitude and Longitude)  34 non-null     object \n",
      " 13  Major River(s)                                     34 non-null     object \n",
      " 14  Major Crop(s)                                      34 non-null     object \n",
      " 15  Key Industries/Economy                             34 non-null     object \n",
      " 16  Tourist Attractions                                34 non-null     object \n",
      "dtypes: float64(2), int64(5), object(10)\n",
      "memory usage: 4.8+ KB\n"
     ]
    }
   ],
   "source": [
    "df.info()"
   ]
  },
  {
   "cell_type": "code",
   "execution_count": 14,
   "id": "db4142e6",
   "metadata": {},
   "outputs": [
    {
     "data": {
      "text/plain": [
       "0"
      ]
     },
     "execution_count": 14,
     "metadata": {},
     "output_type": "execute_result"
    }
   ],
   "source": [
    "df.duplicated().sum()"
   ]
  },
  {
   "cell_type": "code",
   "execution_count": 16,
   "id": "9caa1bc6",
   "metadata": {},
   "outputs": [
    {
     "data": {
      "text/plain": [
       "Index(['District Name', 'District Code', 'Administrative Division',\n",
       "       'Headquarters', 'Number of Talukas', 'Area (in sq. km)',\n",
       "       'Population (Census 2011)', 'Population Density (per sq. km)',\n",
       "       'Sex Ratio', 'Literacy Rate (%)', 'Urban Population (%)',\n",
       "       'Formation Date', 'Geographical Coordinates (Latitude and Longitude)',\n",
       "       'Major River(s)', 'Major Crop(s)', 'Key Industries/Economy',\n",
       "       'Tourist Attractions'],\n",
       "      dtype='object')"
      ]
     },
     "execution_count": 16,
     "metadata": {},
     "output_type": "execute_result"
    }
   ],
   "source": [
    "df.columns"
   ]
  },
  {
   "cell_type": "code",
   "execution_count": null,
   "id": "8cd7fabc",
   "metadata": {},
   "outputs": [],
   "source": []
  },
  {
   "cell_type": "code",
   "execution_count": null,
   "id": "bfb4262e",
   "metadata": {},
   "outputs": [
    {
     "data": {
      "text/plain": [
       "<Axes: xlabel='District Name', ylabel='count'>"
      ]
     },
     "execution_count": 21,
     "metadata": {},
     "output_type": "execute_result"
    },
    {
     "data": {
      "image/png": "[encoded data removed]",
      "text/plain": [
       "<Figure size 432x288 with 1 Axes>"
      ]
     },
     "metadata": {
      "needs_background": "light"
     },
     "output_type": "display_data"
    }
   ],
   "source": [
    "sns.countplot(x = df[\"Headquarters\"][\"Number of Talukas\"])"
   ]
  }
 ],
 "metadata": {
  "kernelspec": {
   "display_name": "Python 3",
   "language": "python",
   "name": "python3"
  },
  "language_info": {
   "codemirror_mode": {
    "name": "ipython",
    "version": 3
   },
   "file_extension": ".py",
   "mimetype": "text/x-python",
   "name": "python",
   "nbconvert_exporter": "python",
   "pygments_lexer": "ipython3",
   "version": "3.8.10"
  }
 },
 "nbformat": 4,
 "nbformat_minor": 5
}
