{
 "cells": [
  {
   "cell_type": "code",
   "execution_count": 6,
   "id": "fd62e9c7",
   "metadata": {},
   "outputs": [
    {
     "name": "stdout",
     "output_type": "stream",
     "text": [
      "2.2.2\n"
     ]
    }
   ],
   "source": [
    "import pandas as pd\n",
    "print(pd.__version__)"
   ]
  },
  {
   "cell_type": "code",
   "execution_count": null,
   "id": "7ab8e2d5",
   "metadata": {},
   "outputs": [
    {
     "name": "stdout",
     "output_type": "stream",
     "text": [
      "The first number in series is: 1\n",
      "0     1\n",
      "1    45\n",
      "2    67\n",
      "dtype: int64\n",
      "[1, 45, 67]\n"
     ]
    }
   ],
   "source": [
    "import pandas as pd\n",
    "a = [1,45,67]\n",
    "my_var = pd.Series(a)    # This converts the list 'a' into a Pandas Series\n",
    "my_var1 = a[0]\n",
    "print(\"The first number in series is:\",my_var1)\n",
    "print(my_var)"
   ]
  },
  {
   "cell_type": "code",
   "execution_count": 2,
   "id": "bae3eea2",
   "metadata": {},
   "outputs": [
    {
     "name": "stdout",
     "output_type": "stream",
     "text": [
      "[1, 45, 67]\n"
     ]
    }
   ],
   "source": [
    "import pandas as pd\n",
    "a = [1,45,67]\n",
    "print(a)"
   ]
  },
  {
   "cell_type": "code",
   "execution_count": 9,
   "id": "651ffd11",
   "metadata": {},
   "outputs": [
    {
     "name": "stdout",
     "output_type": "stream",
     "text": [
      "The value at z th index/label is : 45\n",
      "z    45\n",
      "e    52\n",
      "r    63\n",
      "x    56\n",
      "dtype: int64\n"
     ]
    }
   ],
   "source": [
    "#to print without indexing\n",
    "a = [45,52,63,56]\n",
    "my_var = pd.Series(a , index = [\"z\",\"e\",\"r\",\"x\"])\n",
    "print(\"The value at z th index/label is :\",my_var[\"z\"])\n",
    "print(my_var)"
   ]
  },
  {
   "cell_type": "markdown",
   "id": "c16045ff",
   "metadata": {},
   "source": [
    "| Feature        | **Series**                |**DataFrame**                              |\n",
    "|--------------  | ------------------------- | ----------------------------------------- |\n",
    "| Structure      | 1D (like a single column) | 2D (like a full table with rows &columns) |\n",
    "| Think of it as | A single column/variable  | A spreadsheet or SQLtable                 |\n",
    "| Index          | Has one index (rows)      | Has row index and columnlabels            |\n",
    "| Creation       |pd.Series([1, 2, 3])       | pd.DataFrame({\"a\":[1,2],\"b\": [3,   4]})                                          |\n"
   ]
  },
  {
   "cell_type": "code",
   "execution_count": 10,
   "id": "c79ecd2f",
   "metadata": {},
   "outputs": [
    {
     "name": "stdout",
     "output_type": "stream",
     "text": [
      "day1    420\n",
      "day2    380\n",
      "dtype: int64\n"
     ]
    }
   ],
   "source": [
    "calories = {\"day1\": 420, \"day2\": 380}  #here key is a label\n",
    "myvar = pd.Series(calories)\n",
    "print(myvar)"
   ]
  },
  {
   "cell_type": "code",
   "execution_count": 3,
   "id": "c4362be6",
   "metadata": {},
   "outputs": [
    {
     "name": "stdout",
     "output_type": "stream",
     "text": [
      "day1    420\n",
      "day3    390\n",
      "dtype: int64\n"
     ]
    }
   ],
   "source": [
    "# Create a Series using only data from \"day1\" and \"day2\":\n",
    "calories = {\"day1\": 420, \"day2\": 380, \"day3\": 390}\n",
    "myvar = pd.Series(calories, index = [\"day1\", \"day3\"])\n",
    "print(myvar)"
   ]
  },
  {
   "cell_type": "code",
   "execution_count": null,
   "id": "e3b21b45",
   "metadata": {},
   "outputs": [
    {
     "name": "stdout",
     "output_type": "stream",
     "text": [
      "   calories  duration\n",
      "0       420        50\n",
      "1       380        40\n",
      "2       390        45\n"
     ]
    }
   ],
   "source": [
    "data = {\n",
    "  \"calories\": [420, 380, 390],\n",
    "  \"duration\": [50, 40, 45]\n",
    "}\n",
    "#load data into a DataFrame object:\n",
    "df = pd.DataFrame(data)\n",
    "print(df)"
   ]
  },
  {
   "cell_type": "code",
   "execution_count": 13,
   "id": "d0a2daab",
   "metadata": {},
   "outputs": [
    {
     "name": "stdout",
     "output_type": "stream",
     "text": [
      "calories    420\n",
      "duration     50\n",
      "Name: 0, dtype: int64\n"
     ]
    }
   ],
   "source": [
    "print(df.loc[0])"
   ]
  },
  {
   "cell_type": "code",
   "execution_count": 14,
   "id": "69f7ed73",
   "metadata": {},
   "outputs": [
    {
     "name": "stdout",
     "output_type": "stream",
     "text": [
      "   calories  duration\n",
      "0       420        50\n",
      "2       390        45\n"
     ]
    }
   ],
   "source": [
    "print(df.loc[[0,2]])"
   ]
  },
  {
   "cell_type": "code",
   "execution_count": 15,
   "id": "46657310",
   "metadata": {},
   "outputs": [
    {
     "name": "stdout",
     "output_type": "stream",
     "text": [
      "    age  cal  weight  height\n",
      "FY   12   45      25      12\n",
      "SY   45   86      56      36\n",
      "TY   41   43      85      52\n"
     ]
    }
   ],
   "source": [
    "data = {\n",
    "    \"age\" :[12,45,41],\n",
    "    \"cal\" :[45,86,43],\n",
    "    \"weight\" :[25,56,85],\n",
    "    \"height\" :[12,36,52]\n",
    "}\n",
    "df = pd.DataFrame(data,index = [\"FY\",\"SY\",\"TY\"])\n",
    "print(df)"
   ]
  },
  {
   "cell_type": "code",
   "execution_count": null,
   "id": "aba6e500",
   "metadata": {},
   "outputs": [],
   "source": []
  },
  {
   "cell_type": "code",
   "execution_count": 16,
   "id": "51901f61",
   "metadata": {},
   "outputs": [
    {
     "name": "stdout",
     "output_type": "stream",
     "text": [
      "calories    420\n",
      "duration     50\n",
      "Name: FY, dtype: int64\n"
     ]
    }
   ],
   "source": [
    "#refer to the named index:\n",
    "data = {\n",
    "  \"calories\": [420, 380, 390],\n",
    "  \"duration\": [50, 40, 45]\n",
    "}\n",
    "df = pd.DataFrame(data,index = [\"FY\",\"SY\",\"TY\"])\n",
    "print(df.loc[\"FY\"])"
   ]
  },
  {
   "cell_type": "code",
   "execution_count": 17,
   "id": "a3330be6",
   "metadata": {},
   "outputs": [
    {
     "name": "stdout",
     "output_type": "stream",
     "text": [
      "    calories  duration\n",
      "FY       420        50\n",
      "SY       380        40\n"
     ]
    }
   ],
   "source": [
    "#refer to the named index:\n",
    "data = {\n",
    "  \"calories\": [420, 380, 390],\n",
    "  \"duration\": [50, 40, 45]\n",
    "}\n",
    "print(df.loc[[\"FY\",\"SY\"]])"
   ]
  }
 ],
 "metadata": {
  "kernelspec": {
   "display_name": "Python 3",
   "language": "python",
   "name": "python3"
  },
  "language_info": {
   "codemirror_mode": {
    "name": "ipython",
    "version": 3
   },
   "file_extension": ".py",
   "mimetype": "text/x-python",
   "name": "python",
   "nbconvert_exporter": "python",
   "pygments_lexer": "ipython3",
   "version": "3.12.1"
  }
 },
 "nbformat": 4,
 "nbformat_minor": 5
}
