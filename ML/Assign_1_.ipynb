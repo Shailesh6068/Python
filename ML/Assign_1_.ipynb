{
 "cells": [
  {
   "cell_type": "markdown",
   "id": "453a0994",
   "metadata": {},
   "source": [
    " 1. Select/downloaddataset fromUCI/Kaggleoranyother repository.Performdatacleaningandexploratory\n",
    " dataanalysis(EDA)togaininsightsfromdata\n",
    " Datacleaningcanbefollowingbutnotlimitedto:\n",
    " 1. Handlemissingvalues\n",
    " 2. Detectandtreatoutliers\n",
    " 3. Convertcategoricaldatatonumerical\n",
    " 4. Plotdistributions\n",
    " 5. Analyzedatausingcorrelation\n",
    " 6. Featureselection"
   ]
  },
  {
   "cell_type": "code",
   "execution_count": 20,
   "id": "c240a62b",
   "metadata": {},
   "outputs": [],
   "source": [
    "import pandas as pd\n",
    "from sklearn.impute import SimpleImputer"
   ]
  },
  {
   "cell_type": "code",
   "execution_count": 21,
   "id": "de3562d4",
   "metadata": {},
   "outputs": [
    {
     "data": {
      "text/html": [
       "<div>\n",
       "<style scoped>\n",
       "    .dataframe tbody tr th:only-of-type {\n",
       "        vertical-align: middle;\n",
       "    }\n",
       "\n",
       "    .dataframe tbody tr th {\n",
       "        vertical-align: top;\n",
       "    }\n",
       "\n",
       "    .dataframe thead th {\n",
       "        text-align: right;\n",
       "    }\n",
       "</style>\n",
       "<table border=\"1\" class=\"dataframe\">\n",
       "  <thead>\n",
       "    <tr style=\"text-align: right;\">\n",
       "      <th></th>\n",
       "      <th>product_id</th>\n",
       "      <th>category</th>\n",
       "      <th>brand</th>\n",
       "      <th>season</th>\n",
       "      <th>size</th>\n",
       "      <th>color</th>\n",
       "      <th>original_price</th>\n",
       "      <th>markdown_percentage</th>\n",
       "      <th>current_price</th>\n",
       "      <th>purchase_date</th>\n",
       "      <th>stock_quantity</th>\n",
       "      <th>customer_rating</th>\n",
       "      <th>is_returned</th>\n",
       "      <th>return_reason</th>\n",
       "    </tr>\n",
       "  </thead>\n",
       "  <tbody>\n",
       "    <tr>\n",
       "      <th>0</th>\n",
       "      <td>FB000001</td>\n",
       "      <td>Outerwear</td>\n",
       "      <td>Zara</td>\n",
       "      <td>Spring</td>\n",
       "      <td>XL</td>\n",
       "      <td>Red</td>\n",
       "      <td>196.01</td>\n",
       "      <td>0.0</td>\n",
       "      <td>196.01</td>\n",
       "      <td>2025-07-05</td>\n",
       "      <td>37</td>\n",
       "      <td>3.0</td>\n",
       "      <td>False</td>\n",
       "      <td>NaN</td>\n",
       "    </tr>\n",
       "    <tr>\n",
       "      <th>1</th>\n",
       "      <td>FB000002</td>\n",
       "      <td>Tops</td>\n",
       "      <td>Uniqlo</td>\n",
       "      <td>Winter</td>\n",
       "      <td>L</td>\n",
       "      <td>Pink</td>\n",
       "      <td>119.64</td>\n",
       "      <td>0.0</td>\n",
       "      <td>119.64</td>\n",
       "      <td>2025-08-06</td>\n",
       "      <td>2</td>\n",
       "      <td>2.5</td>\n",
       "      <td>False</td>\n",
       "      <td>NaN</td>\n",
       "    </tr>\n",
       "    <tr>\n",
       "      <th>2</th>\n",
       "      <td>FB000003</td>\n",
       "      <td>Accessories</td>\n",
       "      <td>Uniqlo</td>\n",
       "      <td>Winter</td>\n",
       "      <td>NaN</td>\n",
       "      <td>Black</td>\n",
       "      <td>33.80</td>\n",
       "      <td>0.0</td>\n",
       "      <td>33.80</td>\n",
       "      <td>2025-08-06</td>\n",
       "      <td>22</td>\n",
       "      <td>4.3</td>\n",
       "      <td>False</td>\n",
       "      <td>NaN</td>\n",
       "    </tr>\n",
       "    <tr>\n",
       "      <th>3</th>\n",
       "      <td>FB000004</td>\n",
       "      <td>Shoes</td>\n",
       "      <td>Uniqlo</td>\n",
       "      <td>Spring</td>\n",
       "      <td>XL</td>\n",
       "      <td>Black</td>\n",
       "      <td>75.36</td>\n",
       "      <td>0.0</td>\n",
       "      <td>75.36</td>\n",
       "      <td>2025-07-07</td>\n",
       "      <td>48</td>\n",
       "      <td>2.6</td>\n",
       "      <td>False</td>\n",
       "      <td>NaN</td>\n",
       "    </tr>\n",
       "    <tr>\n",
       "      <th>4</th>\n",
       "      <td>FB000005</td>\n",
       "      <td>Tops</td>\n",
       "      <td>Banana Republic</td>\n",
       "      <td>Winter</td>\n",
       "      <td>XL</td>\n",
       "      <td>Black</td>\n",
       "      <td>105.02</td>\n",
       "      <td>0.0</td>\n",
       "      <td>105.02</td>\n",
       "      <td>2025-08-06</td>\n",
       "      <td>10</td>\n",
       "      <td>NaN</td>\n",
       "      <td>False</td>\n",
       "      <td>NaN</td>\n",
       "    </tr>\n",
       "  </tbody>\n",
       "</table>\n",
       "</div>"
      ],
      "text/plain": [
       "  product_id     category  ... is_returned return_reason\n",
       "0   FB000001    Outerwear  ...       False           NaN\n",
       "1   FB000002         Tops  ...       False           NaN\n",
       "2   FB000003  Accessories  ...       False           NaN\n",
       "3   FB000004        Shoes  ...       False           NaN\n",
       "4   FB000005         Tops  ...       False           NaN\n",
       "\n",
       "[5 rows x 14 columns]"
      ]
     },
     "execution_count": 21,
     "metadata": {},
     "output_type": "execute_result"
    }
   ],
   "source": [
    "df = pd.read_csv(r\"C:\\Users\\Shailesh\\OneDrive\\Desktop\\coding\\Python\\Machine Learning\\M_0_Assignment\\fashion_boutique_dataset.csv\")\n",
    "df.head()"
   ]
  },
  {
   "cell_type": "code",
   "execution_count": 22,
   "id": "e404d855",
   "metadata": {},
   "outputs": [
    {
     "data": {
      "text/plain": [
       "(2176, 14)"
      ]
     },
     "execution_count": 22,
     "metadata": {},
     "output_type": "execute_result"
    }
   ],
   "source": [
    "df.shape"
   ]
  },
  {
   "cell_type": "code",
   "execution_count": 23,
   "id": "145e6e44",
   "metadata": {},
   "outputs": [
    {
     "data": {
      "text/plain": [
       "product_id                0\n",
       "category                  0\n",
       "brand                     0\n",
       "season                    0\n",
       "size                    491\n",
       "color                     0\n",
       "original_price            0\n",
       "markdown_percentage       0\n",
       "current_price             0\n",
       "purchase_date             0\n",
       "stock_quantity            0\n",
       "customer_rating         362\n",
       "is_returned               0\n",
       "return_reason          1856\n",
       "dtype: int64"
      ]
     },
     "execution_count": 23,
     "metadata": {},
     "output_type": "execute_result"
    }
   ],
   "source": [
    "df.isnull().sum()"
   ]
  },
  {
   "cell_type": "code",
   "execution_count": 24,
   "id": "06e7daed",
   "metadata": {},
   "outputs": [
    {
     "data": {
      "text/plain": [
       "product_id              0.000000\n",
       "category                0.000000\n",
       "brand                   0.000000\n",
       "season                  0.000000\n",
       "size                   22.564338\n",
       "color                   0.000000\n",
       "original_price          0.000000\n",
       "markdown_percentage     0.000000\n",
       "current_price           0.000000\n",
       "purchase_date           0.000000\n",
       "stock_quantity          0.000000\n",
       "customer_rating        16.636029\n",
       "is_returned             0.000000\n",
       "return_reason          85.294118\n",
       "dtype: float64"
      ]
     },
     "execution_count": 24,
     "metadata": {},
     "output_type": "execute_result"
    }
   ],
   "source": [
    "df.isnull().mean()*100"
   ]
  },
  {
   "cell_type": "code",
   "execution_count": 25,
   "id": "b39c3361",
   "metadata": {},
   "outputs": [],
   "source": [
    "df.drop(columns=[\"return_reason\",\"product_id\"],inplace=True)"
   ]
  },
  {
   "cell_type": "code",
   "execution_count": 26,
   "id": "fbce7eb3",
   "metadata": {},
   "outputs": [],
   "source": [
    "si = SimpleImputer(strategy=\"most_frequent\")\n",
    "df[[\"size\"]] = si.fit_transform(df[[\"size\"]])"
   ]
  },
  {
   "cell_type": "code",
   "execution_count": 27,
   "id": "9ecaccd8",
   "metadata": {},
   "outputs": [],
   "source": [
    "si_mean = SimpleImputer(strategy=\"mean\")\n",
    "df[[\"customer_rating\"]] = si.fit_transform(df[[\"customer_rating\"]])"
   ]
  },
  {
   "cell_type": "code",
   "execution_count": 28,
   "id": "e3425984",
   "metadata": {},
   "outputs": [
    {
     "data": {
      "text/plain": [
       "category               0\n",
       "brand                  0\n",
       "season                 0\n",
       "size                   0\n",
       "color                  0\n",
       "original_price         0\n",
       "markdown_percentage    0\n",
       "current_price          0\n",
       "purchase_date          0\n",
       "stock_quantity         0\n",
       "customer_rating        0\n",
       "is_returned            0\n",
       "dtype: int64"
      ]
     },
     "execution_count": 28,
     "metadata": {},
     "output_type": "execute_result"
    }
   ],
   "source": [
    "df.isnull().sum()"
   ]
  },
  {
   "cell_type": "code",
   "execution_count": 29,
   "id": "461e3da0",
   "metadata": {},
   "outputs": [
    {
     "data": {
      "text/plain": [
       "0"
      ]
     },
     "execution_count": 29,
     "metadata": {},
     "output_type": "execute_result"
    }
   ],
   "source": [
    "df.duplicated().sum()"
   ]
  },
  {
   "cell_type": "markdown",
   "id": "a928ce5c",
   "metadata": {},
   "source": [
    "Detect And Treat Outlier"
   ]
  },
  {
   "cell_type": "code",
   "execution_count": 30,
   "id": "9e2fe35b",
   "metadata": {},
   "outputs": [
    {
     "data": {
      "text/plain": [
       "<Axes: ylabel='original_price'>"
      ]
     },
     "execution_count": 30,
     "metadata": {},
     "output_type": "execute_result"
    },
    {
     "data": {
      "image/png": "[encoded data removed]",
      "text/plain": [
       "<Figure size 640x480 with 1 Axes>"
      ]
     },
     "metadata": {},
     "output_type": "display_data"
    }
   ],
   "source": [
    "import seaborn as sns\n",
    "\n",
    "sns.boxplot(df[\"original_price\"])"
   ]
  },
  {
   "cell_type": "code",
   "execution_count": 31,
   "id": "7825696f",
   "metadata": {},
   "outputs": [
    {
     "data": {
      "text/plain": [
       "<Axes: ylabel='original_price'>"
      ]
     },
     "execution_count": 31,
     "metadata": {},
     "output_type": "execute_result"
    },
    {
     "data": {
      "image/png": "[encoded data removed]",
      "text/plain": [
       "<Figure size 640x480 with 1 Axes>"
      ]
     },
     "metadata": {},
     "output_type": "display_data"
    }
   ],
   "source": [
    "sns.boxplot(df[\"original_price\"])"
   ]
  },
  {
   "cell_type": "code",
   "execution_count": 32,
   "id": "81904bd3",
   "metadata": {},
   "outputs": [
    {
     "data": {
      "text/plain": [
       "array(['Outerwear', 'Tops', 'Accessories', 'Shoes', 'Bottoms', 'Dresses'],\n",
       "      dtype=object)"
      ]
     },
     "execution_count": 32,
     "metadata": {},
     "output_type": "execute_result"
    }
   ],
   "source": [
    "df[\"category\"].unique()"
   ]
  },
  {
   "cell_type": "code",
   "execution_count": 33,
   "id": "8d3cb5a3",
   "metadata": {},
   "outputs": [],
   "source": [
    "from sklearn.preprocessing import OneHotEncoder\n",
    "\n",
    "# Initialize OneHotEncoder\n",
    "oe = OneHotEncoder(drop='first', sparse_output =False, dtype=int)\n",
    "\n",
    "# Fit and transform the 'category' column\n",
    "category_encoded = oe.fit_transform(df[[\"category\"]])\n",
    "\n",
    "# Convert to DataFrame with appropriate column names\n",
    "category_encoded_df = pd.DataFrame(category_encoded, columns=oe.get_feature_names_out([\"category\"]))\n",
    "\n",
    "# Concatenate encoded columns with original DataFrame\n",
    "df = pd.concat([df.drop(\"category\", axis=1), category_encoded_df], axis=1)\n"
   ]
  },
  {
   "cell_type": "code",
   "execution_count": 34,
   "id": "0071574e",
   "metadata": {},
   "outputs": [
    {
     "data": {
      "text/html": [
       "<div>\n",
       "<style scoped>\n",
       "    .dataframe tbody tr th:only-of-type {\n",
       "        vertical-align: middle;\n",
       "    }\n",
       "\n",
       "    .dataframe tbody tr th {\n",
       "        vertical-align: top;\n",
       "    }\n",
       "\n",
       "    .dataframe thead th {\n",
       "        text-align: right;\n",
       "    }\n",
       "</style>\n",
       "<table border=\"1\" class=\"dataframe\">\n",
       "  <thead>\n",
       "    <tr style=\"text-align: right;\">\n",
       "      <th></th>\n",
       "      <th>brand</th>\n",
       "      <th>season</th>\n",
       "      <th>size</th>\n",
       "      <th>color</th>\n",
       "      <th>original_price</th>\n",
       "      <th>markdown_percentage</th>\n",
       "      <th>current_price</th>\n",
       "      <th>purchase_date</th>\n",
       "      <th>stock_quantity</th>\n",
       "      <th>customer_rating</th>\n",
       "      <th>is_returned</th>\n",
       "      <th>category_Bottoms</th>\n",
       "      <th>category_Dresses</th>\n",
       "      <th>category_Outerwear</th>\n",
       "      <th>category_Shoes</th>\n",
       "      <th>category_Tops</th>\n",
       "    </tr>\n",
       "  </thead>\n",
       "  <tbody>\n",
       "    <tr>\n",
       "      <th>0</th>\n",
       "      <td>Zara</td>\n",
       "      <td>Spring</td>\n",
       "      <td>XL</td>\n",
       "      <td>Red</td>\n",
       "      <td>196.01</td>\n",
       "      <td>0.0</td>\n",
       "      <td>196.01</td>\n",
       "      <td>2025-07-05</td>\n",
       "      <td>37</td>\n",
       "      <td>3.0</td>\n",
       "      <td>False</td>\n",
       "      <td>0</td>\n",
       "      <td>0</td>\n",
       "      <td>1</td>\n",
       "      <td>0</td>\n",
       "      <td>0</td>\n",
       "    </tr>\n",
       "    <tr>\n",
       "      <th>1</th>\n",
       "      <td>Uniqlo</td>\n",
       "      <td>Winter</td>\n",
       "      <td>L</td>\n",
       "      <td>Pink</td>\n",
       "      <td>119.64</td>\n",
       "      <td>0.0</td>\n",
       "      <td>119.64</td>\n",
       "      <td>2025-08-06</td>\n",
       "      <td>2</td>\n",
       "      <td>2.5</td>\n",
       "      <td>False</td>\n",
       "      <td>0</td>\n",
       "      <td>0</td>\n",
       "      <td>0</td>\n",
       "      <td>0</td>\n",
       "      <td>1</td>\n",
       "    </tr>\n",
       "    <tr>\n",
       "      <th>2</th>\n",
       "      <td>Uniqlo</td>\n",
       "      <td>Winter</td>\n",
       "      <td>XS</td>\n",
       "      <td>Black</td>\n",
       "      <td>33.80</td>\n",
       "      <td>0.0</td>\n",
       "      <td>33.80</td>\n",
       "      <td>2025-08-06</td>\n",
       "      <td>22</td>\n",
       "      <td>4.3</td>\n",
       "      <td>False</td>\n",
       "      <td>0</td>\n",
       "      <td>0</td>\n",
       "      <td>0</td>\n",
       "      <td>0</td>\n",
       "      <td>0</td>\n",
       "    </tr>\n",
       "    <tr>\n",
       "      <th>3</th>\n",
       "      <td>Uniqlo</td>\n",
       "      <td>Spring</td>\n",
       "      <td>XL</td>\n",
       "      <td>Black</td>\n",
       "      <td>75.36</td>\n",
       "      <td>0.0</td>\n",
       "      <td>75.36</td>\n",
       "      <td>2025-07-07</td>\n",
       "      <td>48</td>\n",
       "      <td>2.6</td>\n",
       "      <td>False</td>\n",
       "      <td>0</td>\n",
       "      <td>0</td>\n",
       "      <td>0</td>\n",
       "      <td>1</td>\n",
       "      <td>0</td>\n",
       "    </tr>\n",
       "    <tr>\n",
       "      <th>4</th>\n",
       "      <td>Banana Republic</td>\n",
       "      <td>Winter</td>\n",
       "      <td>XL</td>\n",
       "      <td>Black</td>\n",
       "      <td>105.02</td>\n",
       "      <td>0.0</td>\n",
       "      <td>105.02</td>\n",
       "      <td>2025-08-06</td>\n",
       "      <td>10</td>\n",
       "      <td>2.5</td>\n",
       "      <td>False</td>\n",
       "      <td>0</td>\n",
       "      <td>0</td>\n",
       "      <td>0</td>\n",
       "      <td>0</td>\n",
       "      <td>1</td>\n",
       "    </tr>\n",
       "  </tbody>\n",
       "</table>\n",
       "</div>"
      ],
      "text/plain": [
       "             brand  season  ... category_Shoes category_Tops\n",
       "0             Zara  Spring  ...              0             0\n",
       "1           Uniqlo  Winter  ...              0             1\n",
       "2           Uniqlo  Winter  ...              0             0\n",
       "3           Uniqlo  Spring  ...              1             0\n",
       "4  Banana Republic  Winter  ...              0             1\n",
       "\n",
       "[5 rows x 16 columns]"
      ]
     },
     "execution_count": 34,
     "metadata": {},
     "output_type": "execute_result"
    }
   ],
   "source": [
    "df.head()"
   ]
  }
 ],
 "metadata": {
  "kernelspec": {
   "display_name": "Python 3",
   "language": "python",
   "name": "python3"
  },
  "language_info": {
   "codemirror_mode": {
    "name": "ipython",
    "version": 3
   },
   "file_extension": ".py",
   "mimetype": "text/x-python",
   "name": "python",
   "nbconvert_exporter": "python",
   "pygments_lexer": "ipython3",
   "version": "3.12.1"
  }
 },
 "nbformat": 4,
 "nbformat_minor": 5
}
